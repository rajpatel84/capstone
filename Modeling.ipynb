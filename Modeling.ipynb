{
 "cells": [
  {
   "cell_type": "markdown",
   "metadata": {},
   "source": [
    "# MODELING "
   ]
  },
  {
   "cell_type": "code",
   "execution_count": 1,
   "metadata": {
    "scrolled": true
   },
   "outputs": [
    {
     "name": "stderr",
     "output_type": "stream",
     "text": [
      "/Users/RajHoOT/anaconda3/lib/python3.6/site-packages/h5py/__init__.py:36: FutureWarning: Conversion of the second argument of issubdtype from `float` to `np.floating` is deprecated. In future, it will be treated as `np.float64 == np.dtype(float).type`.\n",
      "  from ._conv import register_converters as _register_converters\n",
      "Using TensorFlow backend.\n"
     ]
    },
    {
     "name": "stdout",
     "output_type": "stream",
     "text": [
      "Couldn't import dot_parser, loading of dot files will not be possible.\n"
     ]
    }
   ],
   "source": [
    "# Import Libraries \n",
    "\n",
    "import pandas as pd\n",
    "import numpy as np\n",
    "from sklearn.model_selection import train_test_split, GridSearchCV, cross_val_score\n",
    "from sklearn.linear_model import LogisticRegression, LinearRegression\n",
    "from sklearn.tree import DecisionTreeClassifier\n",
    "from sklearn.ensemble import BaggingClassifier, RandomForestClassifier, ExtraTreesClassifier\n",
    "from sklearn.pipeline import Pipeline, FeatureUnion\n",
    "from sklearn.preprocessing import StandardScaler\n",
    "from sklearn.neighbors import KNeighborsRegressor, KNeighborsClassifier\n",
    "from sklearn.linear_model import LogisticRegression\n",
    "import matplotlib.pyplot as plt\n",
    "import re\n",
    "from sklearn import metrics\n",
    "from keras.callbacks import EarlyStopping\n",
    "from keras.models import Sequential\n",
    "from keras.layers import Dense\n",
    "from keras.wrappers.scikit_learn import KerasClassifier\n",
    "from sklearn import svm\n",
    "from sklearn.tree import DecisionTreeClassifier, DecisionTreeRegressor\n",
    "from sklearn.ensemble import BaggingClassifier, RandomForestClassifier, BaggingRegressor, RandomForestRegressor,  AdaBoostClassifier, AdaBoostRegressor\n",
    "from sklearn.preprocessing import LabelEncoder\n",
    "from sklearn.model_selection import StratifiedKFold\n",
    "from keras.callbacks import EarlyStopping\n",
    "from sklearn import preprocessing\n",
    "\n"
   ]
  },
  {
   "cell_type": "markdown",
   "metadata": {},
   "source": [
    "# INTRODUCTION"
   ]
  },
  {
   "attachments": {},
   "cell_type": "markdown",
   "metadata": {},
   "source": [
    "For my capstone project, I’ve decided to tackle the major issue that is the opioid crisis in America.  Right now, America faces an average of 115 opioid overdose deaths each day. Over 270 million prescriptions were written in 2012 alone and are a big contributing factor to this issue. As data scientists, we can’t really question whether doctors are pushing prescriptions from sponsorship from pharmaceutical companies, or if they are constantly barraged by patients claiming they are in severe pain and actually need the medication, or really, most other factors for that matter. So, what I wanted to do was try and find the likelihood that a provider would prescribe an opioid and identify any patterns, if any, from that data."
   ]
  },
  {
   "cell_type": "code",
   "execution_count": 2,
   "metadata": {},
   "outputs": [],
   "source": [
    "prescribers_clean = pd.read_csv('prescribers_clean.csv')"
   ]
  },
  {
   "cell_type": "code",
   "execution_count": 3,
   "metadata": {},
   "outputs": [
    {
     "data": {
      "text/plain": [
       "(23937, 257)"
      ]
     },
     "execution_count": 3,
     "metadata": {},
     "output_type": "execute_result"
    }
   ],
   "source": [
    "prescribers_clean.shape"
   ]
  },
  {
   "cell_type": "code",
   "execution_count": 4,
   "metadata": {
    "scrolled": true
   },
   "outputs": [
    {
     "data": {
      "text/html": [
       "<div>\n",
       "<style scoped>\n",
       "    .dataframe tbody tr th:only-of-type {\n",
       "        vertical-align: middle;\n",
       "    }\n",
       "\n",
       "    .dataframe tbody tr th {\n",
       "        vertical-align: top;\n",
       "    }\n",
       "\n",
       "    .dataframe thead th {\n",
       "        text-align: right;\n",
       "    }\n",
       "</style>\n",
       "<table border=\"1\" class=\"dataframe\">\n",
       "  <thead>\n",
       "    <tr style=\"text-align: right;\">\n",
       "      <th></th>\n",
       "      <th>Unnamed: 0</th>\n",
       "      <th>State</th>\n",
       "      <th>ABILIFY</th>\n",
       "      <th>ACETAMINOPHEN.CODEINE</th>\n",
       "      <th>ACYCLOVIR</th>\n",
       "      <th>ADVAIR.DISKUS</th>\n",
       "      <th>AGGRENOX</th>\n",
       "      <th>ALENDRONATE.SODIUM</th>\n",
       "      <th>ALLOPURINOL</th>\n",
       "      <th>ALPRAZOLAM</th>\n",
       "      <th>...</th>\n",
       "      <th>WARFARIN.SODIUM</th>\n",
       "      <th>XARELTO</th>\n",
       "      <th>ZETIA</th>\n",
       "      <th>ZIPRASIDONE.HCL</th>\n",
       "      <th>ZOLPIDEM.TARTRATE</th>\n",
       "      <th>Opioid.Prescriber</th>\n",
       "      <th>total_opioids</th>\n",
       "      <th>total_prescriptions</th>\n",
       "      <th>Abbrev</th>\n",
       "      <th>Deaths</th>\n",
       "    </tr>\n",
       "  </thead>\n",
       "  <tbody>\n",
       "    <tr>\n",
       "      <th>0</th>\n",
       "      <td>0</td>\n",
       "      <td>TX</td>\n",
       "      <td>0</td>\n",
       "      <td>0</td>\n",
       "      <td>0</td>\n",
       "      <td>0</td>\n",
       "      <td>0</td>\n",
       "      <td>0</td>\n",
       "      <td>0</td>\n",
       "      <td>0</td>\n",
       "      <td>...</td>\n",
       "      <td>0</td>\n",
       "      <td>0</td>\n",
       "      <td>0</td>\n",
       "      <td>0</td>\n",
       "      <td>0</td>\n",
       "      <td>1</td>\n",
       "      <td>17</td>\n",
       "      <td>47</td>\n",
       "      <td>TX</td>\n",
       "      <td>2601.0</td>\n",
       "    </tr>\n",
       "    <tr>\n",
       "      <th>1</th>\n",
       "      <td>1</td>\n",
       "      <td>TX</td>\n",
       "      <td>0</td>\n",
       "      <td>0</td>\n",
       "      <td>0</td>\n",
       "      <td>0</td>\n",
       "      <td>0</td>\n",
       "      <td>0</td>\n",
       "      <td>0</td>\n",
       "      <td>0</td>\n",
       "      <td>...</td>\n",
       "      <td>0</td>\n",
       "      <td>0</td>\n",
       "      <td>0</td>\n",
       "      <td>0</td>\n",
       "      <td>0</td>\n",
       "      <td>0</td>\n",
       "      <td>0</td>\n",
       "      <td>144</td>\n",
       "      <td>TX</td>\n",
       "      <td>2601.0</td>\n",
       "    </tr>\n",
       "    <tr>\n",
       "      <th>2</th>\n",
       "      <td>2</td>\n",
       "      <td>TX</td>\n",
       "      <td>0</td>\n",
       "      <td>0</td>\n",
       "      <td>0</td>\n",
       "      <td>0</td>\n",
       "      <td>0</td>\n",
       "      <td>0</td>\n",
       "      <td>0</td>\n",
       "      <td>0</td>\n",
       "      <td>...</td>\n",
       "      <td>0</td>\n",
       "      <td>0</td>\n",
       "      <td>0</td>\n",
       "      <td>0</td>\n",
       "      <td>0</td>\n",
       "      <td>1</td>\n",
       "      <td>17</td>\n",
       "      <td>35</td>\n",
       "      <td>TX</td>\n",
       "      <td>2601.0</td>\n",
       "    </tr>\n",
       "    <tr>\n",
       "      <th>3</th>\n",
       "      <td>3</td>\n",
       "      <td>TX</td>\n",
       "      <td>0</td>\n",
       "      <td>0</td>\n",
       "      <td>16</td>\n",
       "      <td>0</td>\n",
       "      <td>0</td>\n",
       "      <td>0</td>\n",
       "      <td>0</td>\n",
       "      <td>22</td>\n",
       "      <td>...</td>\n",
       "      <td>40</td>\n",
       "      <td>54</td>\n",
       "      <td>0</td>\n",
       "      <td>0</td>\n",
       "      <td>12</td>\n",
       "      <td>1</td>\n",
       "      <td>155</td>\n",
       "      <td>890</td>\n",
       "      <td>TX</td>\n",
       "      <td>2601.0</td>\n",
       "    </tr>\n",
       "    <tr>\n",
       "      <th>4</th>\n",
       "      <td>4</td>\n",
       "      <td>TX</td>\n",
       "      <td>0</td>\n",
       "      <td>23</td>\n",
       "      <td>0</td>\n",
       "      <td>0</td>\n",
       "      <td>0</td>\n",
       "      <td>0</td>\n",
       "      <td>0</td>\n",
       "      <td>12</td>\n",
       "      <td>...</td>\n",
       "      <td>0</td>\n",
       "      <td>0</td>\n",
       "      <td>0</td>\n",
       "      <td>0</td>\n",
       "      <td>0</td>\n",
       "      <td>1</td>\n",
       "      <td>132</td>\n",
       "      <td>1332</td>\n",
       "      <td>TX</td>\n",
       "      <td>2601.0</td>\n",
       "    </tr>\n",
       "  </tbody>\n",
       "</table>\n",
       "<p>5 rows × 257 columns</p>\n",
       "</div>"
      ],
      "text/plain": [
       "   Unnamed: 0 State  ABILIFY  ACETAMINOPHEN.CODEINE  ACYCLOVIR  ADVAIR.DISKUS  \\\n",
       "0           0    TX        0                      0          0              0   \n",
       "1           1    TX        0                      0          0              0   \n",
       "2           2    TX        0                      0          0              0   \n",
       "3           3    TX        0                      0         16              0   \n",
       "4           4    TX        0                     23          0              0   \n",
       "\n",
       "   AGGRENOX  ALENDRONATE.SODIUM  ALLOPURINOL  ALPRAZOLAM   ...    \\\n",
       "0         0                   0            0           0   ...     \n",
       "1         0                   0            0           0   ...     \n",
       "2         0                   0            0           0   ...     \n",
       "3         0                   0            0          22   ...     \n",
       "4         0                   0            0          12   ...     \n",
       "\n",
       "   WARFARIN.SODIUM  XARELTO  ZETIA  ZIPRASIDONE.HCL  ZOLPIDEM.TARTRATE  \\\n",
       "0                0        0      0                0                  0   \n",
       "1                0        0      0                0                  0   \n",
       "2                0        0      0                0                  0   \n",
       "3               40       54      0                0                 12   \n",
       "4                0        0      0                0                  0   \n",
       "\n",
       "   Opioid.Prescriber  total_opioids  total_prescriptions  Abbrev  Deaths  \n",
       "0                  1             17                   47      TX  2601.0  \n",
       "1                  0              0                  144      TX  2601.0  \n",
       "2                  1             17                   35      TX  2601.0  \n",
       "3                  1            155                  890      TX  2601.0  \n",
       "4                  1            132                 1332      TX  2601.0  \n",
       "\n",
       "[5 rows x 257 columns]"
      ]
     },
     "execution_count": 4,
     "metadata": {},
     "output_type": "execute_result"
    }
   ],
   "source": [
    "prescribers_clean.head()"
   ]
  },
  {
   "cell_type": "code",
   "execution_count": 5,
   "metadata": {},
   "outputs": [],
   "source": [
    "np.random.seed(42)"
   ]
  },
  {
   "cell_type": "code",
   "execution_count": 6,
   "metadata": {},
   "outputs": [],
   "source": [
    "prescribers_clean = pd.get_dummies(prescribers_clean, columns=['State', 'Abbrev'], drop_first=True)"
   ]
  },
  {
   "cell_type": "markdown",
   "metadata": {},
   "source": [
    "### Setting up for Classification "
   ]
  },
  {
   "cell_type": "code",
   "execution_count": 62,
   "metadata": {},
   "outputs": [],
   "source": [
    "# Setting up for train test split\n",
    "\n",
    "X = prescribers_clean.drop(['Opioid.Prescriber'], axis = 1).values.astype(float)\n",
    "y = prescribers_clean['Opioid.Prescriber'].values"
   ]
  },
  {
   "cell_type": "code",
   "execution_count": 63,
   "metadata": {},
   "outputs": [],
   "source": [
    "# TTS\n",
    "\n",
    "X_train, X_test, y_train, y_test = train_test_split(X, y, test_size=0.3, random_state=42)"
   ]
  },
  {
   "cell_type": "code",
   "execution_count": 9,
   "metadata": {},
   "outputs": [
    {
     "name": "stdout",
     "output_type": "stream",
     "text": [
      "0.919103313840156\n",
      "0.9209191286183229\n"
     ]
    }
   ],
   "source": [
    "# Logistic Regression \n",
    "\n",
    "# Set up pipeline \n",
    "ss = StandardScaler()\n",
    "logreg = LogisticRegression()\n",
    "pipes = Pipeline([('ss', ss), ('logreg', logreg)])\n",
    "\n",
    "# Fit pipeline \n",
    "pipes.fit(X_train, y_train)\n",
    "print(pipes.score(X_test, y_test))\n",
    "print(pipes.score(X_train, y_train))"
   ]
  },
  {
   "cell_type": "code",
   "execution_count": 10,
   "metadata": {},
   "outputs": [
    {
     "name": "stdout",
     "output_type": "stream",
     "text": [
      "0.7489557226399332\n",
      "0.8305580423754103\n"
     ]
    }
   ],
   "source": [
    "# KNN \n",
    "\n",
    "knn = KNeighborsClassifier()\n",
    "knn.fit(X_train, y_train)\n",
    "print(knn.score(X_test, y_test)) \n",
    "print(knn.score(X_train, y_train))"
   ]
  },
  {
   "cell_type": "code",
   "execution_count": 11,
   "metadata": {},
   "outputs": [
    {
     "name": "stdout",
     "output_type": "stream",
     "text": [
      "0.9007240323029797\n",
      "1.0\n"
     ]
    }
   ],
   "source": [
    "# Decision Tree \n",
    "\n",
    "decisiontree = DecisionTreeClassifier()\n",
    "model = decisiontree.fit(X_train, y_train)\n",
    "print(model.score(X_test, y_test))\n",
    "print(model.score(X_train, y_train))"
   ]
  },
  {
   "cell_type": "code",
   "execution_count": 12,
   "metadata": {},
   "outputs": [
    {
     "name": "stdout",
     "output_type": "stream",
     "text": [
      "0.924812030075188\n",
      "0.9915249179349448\n"
     ]
    }
   ],
   "source": [
    "# Bagged Decision\n",
    "\n",
    "bagging = BaggingClassifier()\n",
    "bagging.fit(X_train, y_train)\n",
    "print(bagging.score(X_test, y_test))\n",
    "print(bagging.score(X_train, y_train))"
   ]
  },
  {
   "cell_type": "code",
   "execution_count": 13,
   "metadata": {},
   "outputs": [
    {
     "name": "stdout",
     "output_type": "stream",
     "text": [
      "0.9287106655527708\n",
      "0.9913458669054014\n"
     ]
    }
   ],
   "source": [
    "# Random Forest\n",
    "\n",
    "rf = RandomForestClassifier()\n",
    "rf.fit(X_train, y_train)\n",
    "print(rf.score(X_test, y_test))\n",
    "print(rf.score(X_train, y_train))"
   ]
  },
  {
   "cell_type": "code",
   "execution_count": 14,
   "metadata": {},
   "outputs": [
    {
     "name": "stdout",
     "output_type": "stream",
     "text": [
      "0.929963798384851\n",
      "0.9288570575947478\n"
     ]
    }
   ],
   "source": [
    "# Adaboost\n",
    "\n",
    "abr = AdaBoostClassifier()\n",
    "abr.fit(X_train, y_train)\n",
    "print(abr.score(X_test, y_test))\n",
    "print(abr.score(X_train, y_train))\n",
    "\n",
    "# This model is overfitting, I think "
   ]
  },
  {
   "cell_type": "markdown",
   "metadata": {},
   "source": [
    "### EVALUATING MODELS \n"
   ]
  },
  {
   "cell_type": "code",
   "execution_count": 15,
   "metadata": {},
   "outputs": [],
   "source": [
    "# Define f1-score function\n",
    "def f1(model, X, y):\n",
    "    y_pred = model.predict(X)\n",
    "    f1 = metrics.f1_score(y, y_pred) \n",
    "    return f1"
   ]
  },
  {
   "cell_type": "code",
   "execution_count": 16,
   "metadata": {},
   "outputs": [
    {
     "data": {
      "text/plain": [
       "(0.9285099052540913, 0.9287749287749288)"
      ]
     },
     "execution_count": 16,
     "metadata": {},
     "output_type": "execute_result"
    }
   ],
   "source": [
    "# Logistic Regression Evaluation\n",
    "\n",
    "f1(pipes, X_test, y_test), f1(pipes, X_train, y_train)"
   ]
  },
  {
   "cell_type": "code",
   "execution_count": 17,
   "metadata": {},
   "outputs": [
    {
     "data": {
      "text/plain": [
       "(0.8029292818887309, 0.8631213538402199)"
      ]
     },
     "execution_count": 17,
     "metadata": {},
     "output_type": "execute_result"
    }
   ],
   "source": [
    "# KNN Evaluation \n",
    "\n",
    "f1(knn, X_test, y_test), f1(knn, X_train, y_train)"
   ]
  },
  {
   "cell_type": "code",
   "execution_count": 18,
   "metadata": {},
   "outputs": [
    {
     "data": {
      "text/plain": [
       "(0.9169868436372104, 1.0)"
      ]
     },
     "execution_count": 18,
     "metadata": {},
     "output_type": "execute_result"
    }
   ],
   "source": [
    "# Decision Tree Evaluation\n",
    "f1(decisiontree, X_test, y_test), f1(decisiontree, X_train, y_train)"
   ]
  },
  {
   "cell_type": "code",
   "execution_count": 19,
   "metadata": {},
   "outputs": [
    {
     "data": {
      "text/plain": [
       "(0.9345454545454545, 0.9927283900040967)"
      ]
     },
     "execution_count": 19,
     "metadata": {},
     "output_type": "execute_result"
    }
   ],
   "source": [
    "# Bagged Tree Evaluation \n",
    "\n",
    "f1(bagging, X_test, y_test), f1(bagging, X_train, y_train)"
   ]
  },
  {
   "cell_type": "code",
   "execution_count": 20,
   "metadata": {},
   "outputs": [
    {
     "data": {
      "text/plain": [
       "(0.9379243452958292, 0.9925751446566644)"
      ]
     },
     "execution_count": 20,
     "metadata": {},
     "output_type": "execute_result"
    }
   ],
   "source": [
    "# Random Forest Evaluation \n",
    "\n",
    "f1(rf, X_test, y_test), f1(rf, X_train, y_train)"
   ]
  },
  {
   "cell_type": "code",
   "execution_count": 21,
   "metadata": {},
   "outputs": [
    {
     "data": {
      "text/plain": [
       "(0.9385311010631797, 0.9363587827015485)"
      ]
     },
     "execution_count": 21,
     "metadata": {},
     "output_type": "execute_result"
    }
   ],
   "source": [
    "# ADA Evaluation\n",
    "\n",
    "f1(abr, X_test, y_test), f1(abr, X_train, y_train)"
   ]
  },
  {
   "cell_type": "markdown",
   "metadata": {},
   "source": [
    "### Creating/Evaluating Model with Cross Validation "
   ]
  },
  {
   "cell_type": "code",
   "execution_count": 22,
   "metadata": {},
   "outputs": [],
   "source": [
    "np.random.seed(42)"
   ]
  },
  {
   "cell_type": "code",
   "execution_count": 23,
   "metadata": {},
   "outputs": [],
   "source": [
    "# Encoding class values as integers \n",
    "\n",
    "\n",
    "encoder = LabelEncoder()\n",
    "encoder.fit(y)\n",
    "encoded_y = encoder.transform(y)"
   ]
  },
  {
   "cell_type": "code",
   "execution_count": 24,
   "metadata": {},
   "outputs": [],
   "source": [
    "def create_baseline():\n",
    "    # Build model \n",
    "    model = Sequential()\n",
    "    model.add(Dense(60, input_dim = 352, kernel_initializer= 'normal', activation = 'relu'))\n",
    "    model.add(Dense(1, kernel_initializer = 'normal', activation = 'sigmoid'))\n",
    "    \n",
    "    # Compile Model\n",
    "    \n",
    "    model.compile(loss = 'binary_crossentropy', optimizer = 'adam', metrics = ['accuracy'])\n",
    "    return model"
   ]
  },
  {
   "cell_type": "code",
   "execution_count": 25,
   "metadata": {},
   "outputs": [
    {
     "name": "stdout",
     "output_type": "stream",
     "text": [
      "Epoch 1/1\n",
      "21543/21543 [==============================] - 8s 390us/step - loss: 9.4964 - acc: 0.4107\n",
      "2394/2394 [==============================] - 0s 204us/step\n",
      "Epoch 1/1\n",
      "21543/21543 [==============================] - 8s 370us/step - loss: 2.0327 - acc: 0.7670\n",
      "2394/2394 [==============================] - 1s 213us/step\n",
      "Epoch 1/1\n",
      "21543/21543 [==============================] - 8s 377us/step - loss: 9.4997 - acc: 0.4106\n",
      "2394/2394 [==============================] - 0s 192us/step\n",
      "Epoch 1/1\n",
      "21543/21543 [==============================] - 9s 396us/step - loss: 6.5974 - acc: 0.5861\n",
      "2394/2394 [==============================] - 0s 200us/step\n",
      "Epoch 1/1\n",
      "21543/21543 [==============================] - 8s 379us/step - loss: 6.5463 - acc: 0.5894\n",
      "2394/2394 [==============================] - 0s 209us/step\n",
      "Epoch 1/1\n",
      "21543/21543 [==============================] - 8s 351us/step - loss: 5.3334 - acc: 0.6445\n",
      "2394/2394 [==============================] - 0s 197us/step\n",
      "Epoch 1/1\n",
      "21543/21543 [==============================] - 8s 360us/step - loss: 3.8376 - acc: 0.7039\n",
      "2394/2394 [==============================] - 0s 203us/step\n",
      "Epoch 1/1\n",
      "21543/21543 [==============================] - 8s 362us/step - loss: 6.5463 - acc: 0.5894\n",
      "2394/2394 [==============================] - 1s 214us/step\n",
      "Epoch 1/1\n",
      "21544/21544 [==============================] - 8s 368us/step - loss: 6.5460 - acc: 0.5894\n",
      "2393/2393 [==============================] - 1s 230us/step\n",
      "Epoch 1/1\n",
      "21545/21545 [==============================] - 8s 367us/step - loss: 6.6158 - acc: 0.5851\n",
      "2392/2392 [==============================] - 1s 217us/step\n",
      "Results: 62.67% (15.74%)\n"
     ]
    }
   ],
   "source": [
    "# Evaluating model with the standardized dataset \n",
    "\n",
    "estimator = KerasClassifier(build_fn = create_baseline, nb_epoch = 100, batch_size = 5, verbose = 1)\n",
    "kfold = StratifiedKFold(n_splits = 10, shuffle = True, random_state = 42)\n",
    "results = cross_val_score(estimator, X, encoded_y, cv = kfold)\n",
    "print(\"Results: %.2f%% (%.2f%%)\" % (results.mean()*100, results.std()*100))\n"
   ]
  },
  {
   "cell_type": "code",
   "execution_count": 26,
   "metadata": {},
   "outputs": [
    {
     "name": "stdout",
     "output_type": "stream",
     "text": [
      "Epoch 1/20\n",
      " - 8s - loss: 0.4013 - acc: 0.8106\n",
      "Epoch 2/20\n",
      " - 7s - loss: 0.2959 - acc: 0.8740\n",
      "Epoch 3/20\n",
      " - 7s - loss: 0.2606 - acc: 0.8910\n",
      "Epoch 4/20\n",
      " - 6s - loss: 0.2412 - acc: 0.9004\n",
      "Epoch 5/20\n",
      " - 6s - loss: 0.2292 - acc: 0.9040\n",
      "Epoch 6/20\n",
      " - 6s - loss: 0.2164 - acc: 0.9106\n",
      "Epoch 7/20\n",
      " - 6s - loss: 0.2097 - acc: 0.9161\n",
      "Epoch 8/20\n",
      " - 6s - loss: 0.2012 - acc: 0.9203\n",
      "Epoch 9/20\n",
      " - 6s - loss: 0.1939 - acc: 0.9215\n",
      "Epoch 10/20\n",
      " - 6s - loss: 0.1891 - acc: 0.9249\n",
      "Epoch 11/20\n",
      " - 6s - loss: 0.1804 - acc: 0.9297\n",
      "Epoch 12/20\n",
      " - 6s - loss: 0.1815 - acc: 0.9285\n",
      "Epoch 13/20\n",
      " - 6s - loss: 0.1722 - acc: 0.9328\n",
      "Epoch 14/20\n",
      " - 6s - loss: 0.1706 - acc: 0.9345\n",
      "Epoch 15/20\n",
      " - 6s - loss: 0.1673 - acc: 0.9349\n",
      "Epoch 16/20\n",
      " - 6s - loss: 0.1632 - acc: 0.9374\n",
      "Epoch 17/20\n",
      " - 6s - loss: 0.1585 - acc: 0.9391\n",
      "Epoch 18/20\n",
      " - 6s - loss: 0.1571 - acc: 0.9397\n",
      "Epoch 19/20\n",
      " - 6s - loss: 0.1569 - acc: 0.9381\n",
      "Epoch 20/20\n",
      " - 6s - loss: 0.1524 - acc: 0.9418\n",
      "Epoch 1/20\n",
      " - 8s - loss: 0.4006 - acc: 0.8095\n",
      "Epoch 2/20\n",
      " - 8s - loss: 0.2974 - acc: 0.8716\n",
      "Epoch 3/20\n",
      " - 7s - loss: 0.2633 - acc: 0.8880\n",
      "Epoch 4/20\n",
      " - 6s - loss: 0.2460 - acc: 0.8983\n",
      "Epoch 5/20\n",
      " - 6s - loss: 0.2284 - acc: 0.9041\n",
      "Epoch 6/20\n",
      " - 6s - loss: 0.2167 - acc: 0.9107\n",
      "Epoch 7/20\n",
      " - 7s - loss: 0.2090 - acc: 0.9171\n",
      "Epoch 8/20\n",
      " - 6s - loss: 0.2025 - acc: 0.9195\n",
      "Epoch 9/20\n",
      " - 6s - loss: 0.1936 - acc: 0.9228\n",
      "Epoch 10/20\n",
      " - 7s - loss: 0.1919 - acc: 0.9232\n",
      "Epoch 11/20\n",
      " - 10s - loss: 0.1861 - acc: 0.9280\n",
      "Epoch 12/20\n",
      " - 9s - loss: 0.1803 - acc: 0.9286\n",
      "Epoch 13/20\n",
      " - 7s - loss: 0.1740 - acc: 0.9304\n",
      "Epoch 14/20\n",
      " - 7s - loss: 0.1719 - acc: 0.9325\n",
      "Epoch 15/20\n",
      " - 7s - loss: 0.1677 - acc: 0.9347\n",
      "Epoch 16/20\n",
      " - 7s - loss: 0.1635 - acc: 0.9362\n",
      "Epoch 17/20\n",
      " - 7s - loss: 0.1596 - acc: 0.9381\n",
      "Epoch 18/20\n",
      " - 7s - loss: 0.1583 - acc: 0.9397\n",
      "Epoch 19/20\n",
      " - 7s - loss: 0.1554 - acc: 0.9386\n",
      "Epoch 20/20\n",
      " - 6s - loss: 0.1543 - acc: 0.9401\n",
      "Epoch 1/20\n",
      " - 8s - loss: 0.4079 - acc: 0.8062\n",
      "Epoch 2/20\n",
      " - 7s - loss: 0.2999 - acc: 0.8696\n",
      "Epoch 3/20\n",
      " - 7s - loss: 0.2639 - acc: 0.8863\n",
      "Epoch 4/20\n",
      " - 7s - loss: 0.2407 - acc: 0.9013\n",
      "Epoch 5/20\n",
      " - 7s - loss: 0.2269 - acc: 0.9063\n",
      "Epoch 6/20\n",
      " - 7s - loss: 0.2194 - acc: 0.9109\n",
      "Epoch 7/20\n",
      " - 7s - loss: 0.2086 - acc: 0.9147\n",
      "Epoch 8/20\n",
      " - 7s - loss: 0.2023 - acc: 0.9205\n",
      "Epoch 9/20\n",
      " - 8s - loss: 0.1945 - acc: 0.9215\n",
      "Epoch 10/20\n",
      " - 11s - loss: 0.1854 - acc: 0.9251\n",
      "Epoch 11/20\n",
      " - 7s - loss: 0.1842 - acc: 0.9299\n",
      "Epoch 12/20\n",
      " - 8s - loss: 0.1772 - acc: 0.9299\n",
      "Epoch 13/20\n",
      " - 8s - loss: 0.1757 - acc: 0.9305\n",
      "Epoch 14/20\n",
      " - 7s - loss: 0.1707 - acc: 0.9319\n",
      "Epoch 15/20\n",
      " - 7s - loss: 0.1653 - acc: 0.9358\n",
      "Epoch 16/20\n",
      " - 7s - loss: 0.1614 - acc: 0.9351\n",
      "Epoch 17/20\n",
      " - 7s - loss: 0.1584 - acc: 0.9381\n",
      "Epoch 18/20\n",
      " - 7s - loss: 0.1592 - acc: 0.9383\n",
      "Epoch 19/20\n",
      " - 7s - loss: 0.1535 - acc: 0.9413\n",
      "Epoch 20/20\n",
      " - 6s - loss: 0.1500 - acc: 0.9415\n",
      "Epoch 1/20\n",
      " - 7s - loss: 0.3956 - acc: 0.8167\n",
      "Epoch 2/20\n",
      " - 7s - loss: 0.2940 - acc: 0.8729\n",
      "Epoch 3/20\n",
      " - 7s - loss: 0.2589 - acc: 0.8916\n",
      "Epoch 4/20\n",
      " - 7s - loss: 0.2380 - acc: 0.8997\n",
      "Epoch 5/20\n",
      " - 7s - loss: 0.2265 - acc: 0.9074\n",
      "Epoch 6/20\n",
      " - 7s - loss: 0.2137 - acc: 0.9118\n",
      "Epoch 7/20\n",
      " - 7s - loss: 0.2064 - acc: 0.9145\n",
      "Epoch 8/20\n",
      " - 7s - loss: 0.1961 - acc: 0.9222\n",
      "Epoch 9/20\n",
      " - 7s - loss: 0.1928 - acc: 0.9236\n",
      "Epoch 10/20\n",
      " - 7s - loss: 0.1856 - acc: 0.9257\n",
      "Epoch 11/20\n",
      " - 7s - loss: 0.1816 - acc: 0.9274\n",
      "Epoch 12/20\n",
      " - 7s - loss: 0.1730 - acc: 0.9318\n",
      "Epoch 13/20\n",
      " - 7s - loss: 0.1739 - acc: 0.9317\n",
      "Epoch 14/20\n",
      " - 7s - loss: 0.1668 - acc: 0.9349\n",
      "Epoch 15/20\n",
      " - 7s - loss: 0.1641 - acc: 0.9364\n",
      "Epoch 16/20\n",
      " - 7s - loss: 0.1629 - acc: 0.9364\n",
      "Epoch 17/20\n",
      " - 7s - loss: 0.1600 - acc: 0.9366\n",
      "Epoch 18/20\n",
      " - 7s - loss: 0.1556 - acc: 0.9383\n",
      "Epoch 19/20\n",
      " - 7s - loss: 0.1545 - acc: 0.9413\n",
      "Epoch 20/20\n",
      " - 7s - loss: 0.1514 - acc: 0.9430\n",
      "Epoch 1/20\n",
      " - 7s - loss: 0.4034 - acc: 0.8101\n",
      "Epoch 2/20\n",
      " - 7s - loss: 0.2990 - acc: 0.8710\n",
      "Epoch 3/20\n",
      " - 7s - loss: 0.2636 - acc: 0.8885\n",
      "Epoch 4/20\n",
      " - 7s - loss: 0.2421 - acc: 0.8996\n",
      "Epoch 5/20\n",
      " - 7s - loss: 0.2256 - acc: 0.9077\n",
      "Epoch 6/20\n",
      " - 7s - loss: 0.2184 - acc: 0.9114\n",
      "Epoch 7/20\n",
      " - 7s - loss: 0.2078 - acc: 0.9153\n",
      "Epoch 8/20\n",
      " - 7s - loss: 0.2021 - acc: 0.9195\n",
      "Epoch 9/20\n",
      " - 7s - loss: 0.1948 - acc: 0.9226\n",
      "Epoch 10/20\n",
      " - 7s - loss: 0.1887 - acc: 0.9241\n",
      "Epoch 11/20\n",
      " - 7s - loss: 0.1827 - acc: 0.9287\n",
      "Epoch 12/20\n",
      " - 7s - loss: 0.1781 - acc: 0.9299\n",
      "Epoch 13/20\n",
      " - 7s - loss: 0.1734 - acc: 0.9299\n",
      "Epoch 14/20\n",
      " - 7s - loss: 0.1711 - acc: 0.9319\n",
      "Epoch 15/20\n",
      " - 7s - loss: 0.1661 - acc: 0.9339\n",
      "Epoch 16/20\n",
      " - 7s - loss: 0.1641 - acc: 0.9365\n",
      "Epoch 17/20\n",
      " - 7s - loss: 0.1593 - acc: 0.9371\n",
      "Epoch 18/20\n",
      " - 7s - loss: 0.1598 - acc: 0.9370\n",
      "Epoch 19/20\n",
      " - 7s - loss: 0.1551 - acc: 0.9401\n",
      "Epoch 20/20\n",
      " - 7s - loss: 0.1571 - acc: 0.9396\n",
      "Epoch 1/20\n",
      " - 7s - loss: 0.3990 - acc: 0.8122\n",
      "Epoch 2/20\n",
      " - 7s - loss: 0.2947 - acc: 0.8717\n",
      "Epoch 3/20\n",
      " - 7s - loss: 0.2612 - acc: 0.8906\n",
      "Epoch 4/20\n",
      " - 7s - loss: 0.2422 - acc: 0.8997\n",
      "Epoch 5/20\n",
      " - 7s - loss: 0.2278 - acc: 0.9076\n",
      "Epoch 6/20\n",
      " - 8s - loss: 0.2137 - acc: 0.9125\n",
      "Epoch 7/20\n",
      " - 9s - loss: 0.2059 - acc: 0.9158\n",
      "Epoch 8/20\n",
      " - 9s - loss: 0.2000 - acc: 0.9198\n",
      "Epoch 9/20\n",
      " - 7s - loss: 0.1952 - acc: 0.9222\n",
      "Epoch 10/20\n",
      " - 8s - loss: 0.1848 - acc: 0.9273\n",
      "Epoch 11/20\n",
      " - 10s - loss: 0.1822 - acc: 0.9282\n",
      "Epoch 12/20\n",
      " - 8s - loss: 0.1778 - acc: 0.9311\n",
      "Epoch 13/20\n",
      " - 9s - loss: 0.1741 - acc: 0.9321\n",
      "Epoch 14/20\n",
      " - 10s - loss: 0.1712 - acc: 0.9337\n",
      "Epoch 15/20\n",
      " - 8s - loss: 0.1662 - acc: 0.9353\n",
      "Epoch 16/20\n",
      " - 8s - loss: 0.1635 - acc: 0.9372\n",
      "Epoch 17/20\n",
      " - 9s - loss: 0.1607 - acc: 0.9382\n",
      "Epoch 18/20\n",
      " - 8s - loss: 0.1568 - acc: 0.9391\n",
      "Epoch 19/20\n",
      " - 9s - loss: 0.1556 - acc: 0.9397\n",
      "Epoch 20/20\n",
      " - 9s - loss: 0.1510 - acc: 0.9412\n",
      "Epoch 1/20\n",
      " - 10s - loss: 0.4028 - acc: 0.8100\n",
      "Epoch 2/20\n",
      " - 9s - loss: 0.3021 - acc: 0.8697\n",
      "Epoch 3/20\n",
      " - 8s - loss: 0.2661 - acc: 0.8851\n",
      "Epoch 4/20\n",
      " - 11s - loss: 0.2465 - acc: 0.8950\n",
      "Epoch 5/20\n",
      " - 8s - loss: 0.2298 - acc: 0.9047\n",
      "Epoch 6/20\n",
      " - 8s - loss: 0.2198 - acc: 0.9091\n",
      "Epoch 7/20\n",
      " - 8s - loss: 0.2108 - acc: 0.9151\n",
      "Epoch 8/20\n",
      " - 8s - loss: 0.2049 - acc: 0.9176\n",
      "Epoch 9/20\n",
      " - 8s - loss: 0.1963 - acc: 0.9205\n",
      "Epoch 10/20\n",
      " - 9s - loss: 0.1902 - acc: 0.9248\n",
      "Epoch 11/20\n",
      " - 9s - loss: 0.1856 - acc: 0.9255\n",
      "Epoch 12/20\n",
      " - 8s - loss: 0.1794 - acc: 0.9296\n",
      "Epoch 13/20\n",
      " - 7s - loss: 0.1767 - acc: 0.9301\n",
      "Epoch 14/20\n",
      " - 7s - loss: 0.1733 - acc: 0.9328\n",
      "Epoch 15/20\n",
      " - 8s - loss: 0.1664 - acc: 0.9349\n",
      "Epoch 16/20\n",
      " - 8s - loss: 0.1624 - acc: 0.9370\n",
      "Epoch 17/20\n",
      " - 8s - loss: 0.1608 - acc: 0.9376\n",
      "Epoch 18/20\n",
      " - 8s - loss: 0.1604 - acc: 0.9378\n",
      "Epoch 19/20\n",
      " - 8s - loss: 0.1545 - acc: 0.9398\n",
      "Epoch 20/20\n",
      " - 9s - loss: 0.1541 - acc: 0.9396\n",
      "Epoch 1/20\n",
      " - 9s - loss: 0.3991 - acc: 0.8116\n",
      "Epoch 2/20\n",
      " - 9s - loss: 0.2959 - acc: 0.8723\n",
      "Epoch 3/20\n",
      " - 7s - loss: 0.2612 - acc: 0.8879\n",
      "Epoch 4/20\n",
      " - 7s - loss: 0.2389 - acc: 0.9006\n",
      "Epoch 5/20\n",
      " - 7s - loss: 0.2271 - acc: 0.9045\n",
      "Epoch 6/20\n",
      " - 8s - loss: 0.2150 - acc: 0.9131\n",
      "Epoch 7/20\n",
      " - 7s - loss: 0.2046 - acc: 0.9170\n",
      "Epoch 8/20\n",
      " - 7s - loss: 0.1962 - acc: 0.9207\n",
      "Epoch 9/20\n",
      " - 7s - loss: 0.1904 - acc: 0.9270\n",
      "Epoch 10/20\n",
      " - 7s - loss: 0.1880 - acc: 0.9264\n",
      "Epoch 11/20\n",
      " - 7s - loss: 0.1781 - acc: 0.9308\n",
      "Epoch 12/20\n",
      " - 8s - loss: 0.1768 - acc: 0.9302\n",
      "Epoch 13/20\n",
      " - 8s - loss: 0.1713 - acc: 0.9329\n",
      "Epoch 14/20\n",
      " - 8s - loss: 0.1684 - acc: 0.9340\n",
      "Epoch 15/20\n",
      " - 8s - loss: 0.1658 - acc: 0.9359\n",
      "Epoch 16/20\n",
      " - 8s - loss: 0.1645 - acc: 0.9352\n",
      "Epoch 17/20\n",
      " - 7s - loss: 0.1600 - acc: 0.9371\n",
      "Epoch 18/20\n",
      " - 7s - loss: 0.1566 - acc: 0.9395\n",
      "Epoch 19/20\n",
      " - 6s - loss: 0.1533 - acc: 0.9415\n",
      "Epoch 20/20\n",
      " - 7s - loss: 0.1509 - acc: 0.9413\n",
      "Epoch 1/20\n",
      " - 7s - loss: 0.3979 - acc: 0.8123\n",
      "Epoch 2/20\n",
      " - 7s - loss: 0.2941 - acc: 0.8721\n",
      "Epoch 3/20\n",
      " - 8s - loss: 0.2576 - acc: 0.8905\n",
      "Epoch 4/20\n",
      " - 10s - loss: 0.2414 - acc: 0.9001\n",
      "Epoch 5/20\n",
      " - 8s - loss: 0.2243 - acc: 0.9085\n",
      "Epoch 6/20\n",
      " - 9s - loss: 0.2145 - acc: 0.9132\n",
      "Epoch 7/20\n",
      " - 8s - loss: 0.2070 - acc: 0.9175\n",
      "Epoch 8/20\n",
      " - 9s - loss: 0.1987 - acc: 0.9203\n",
      "Epoch 9/20\n",
      " - 10s - loss: 0.1938 - acc: 0.9230\n",
      "Epoch 10/20\n",
      " - 9s - loss: 0.1877 - acc: 0.9257\n",
      "Epoch 11/20\n",
      " - 9s - loss: 0.1797 - acc: 0.9303\n",
      "Epoch 12/20\n",
      " - 8s - loss: 0.1762 - acc: 0.9313\n",
      "Epoch 13/20\n",
      " - 10s - loss: 0.1743 - acc: 0.9322\n",
      "Epoch 14/20\n",
      " - 10s - loss: 0.1691 - acc: 0.9342\n",
      "Epoch 15/20\n",
      " - 9s - loss: 0.1652 - acc: 0.9345\n",
      "Epoch 16/20\n",
      " - 10s - loss: 0.1597 - acc: 0.9385\n"
     ]
    },
    {
     "name": "stdout",
     "output_type": "stream",
     "text": [
      "Epoch 17/20\n",
      " - 7s - loss: 0.1613 - acc: 0.9372\n",
      "Epoch 18/20\n",
      " - 7s - loss: 0.1585 - acc: 0.9379\n",
      "Epoch 19/20\n",
      " - 8s - loss: 0.1538 - acc: 0.9404\n",
      "Epoch 20/20\n",
      " - 7s - loss: 0.1516 - acc: 0.9427\n",
      "Epoch 1/20\n",
      " - 9s - loss: 0.3996 - acc: 0.8133\n",
      "Epoch 2/20\n",
      " - 8s - loss: 0.2990 - acc: 0.8673\n",
      "Epoch 3/20\n",
      " - 8s - loss: 0.2643 - acc: 0.8860\n",
      "Epoch 4/20\n",
      " - 7s - loss: 0.2424 - acc: 0.9002\n",
      "Epoch 5/20\n",
      " - 7s - loss: 0.2283 - acc: 0.9047\n",
      "Epoch 6/20\n",
      " - 7s - loss: 0.2161 - acc: 0.9093\n",
      "Epoch 7/20\n",
      " - 7s - loss: 0.2077 - acc: 0.9169\n",
      "Epoch 8/20\n",
      " - 7s - loss: 0.2006 - acc: 0.9165\n",
      "Epoch 9/20\n",
      " - 7s - loss: 0.1956 - acc: 0.9223\n",
      "Epoch 10/20\n",
      " - 7s - loss: 0.1896 - acc: 0.9257\n",
      "Epoch 11/20\n",
      " - 7s - loss: 0.1819 - acc: 0.9293\n",
      "Epoch 12/20\n",
      " - 7s - loss: 0.1785 - acc: 0.9301\n",
      "Epoch 13/20\n",
      " - 7s - loss: 0.1728 - acc: 0.9335\n",
      "Epoch 14/20\n",
      " - 7s - loss: 0.1688 - acc: 0.9324\n",
      "Epoch 15/20\n",
      " - 7s - loss: 0.1651 - acc: 0.9363\n",
      "Epoch 16/20\n",
      " - 7s - loss: 0.1619 - acc: 0.9361\n",
      "Epoch 17/20\n",
      " - 7s - loss: 0.1616 - acc: 0.9372\n",
      "Epoch 18/20\n",
      " - 7s - loss: 0.1596 - acc: 0.9384\n",
      "Epoch 19/20\n",
      " - 7s - loss: 0.1553 - acc: 0.9403\n",
      "Epoch 20/20\n",
      " - 8s - loss: 0.1534 - acc: 0.9406\n",
      "Standardized: 89.08% (1.63%)\n"
     ]
    }
   ],
   "source": [
    "# Evaluate baseline model with standardized dataset (This model takes a long time!!!) \n",
    "\n",
    "estimators = []\n",
    "estimators.append(('standardize', StandardScaler()))\n",
    "estimators.append(('mlp', KerasClassifier(build_fn=create_baseline, epochs = 20, batch_size = 5, verbose = 2)))\n",
    "pipeline = Pipeline(estimators)\n",
    "kfold = StratifiedKFold(n_splits = 10, shuffle = True, random_state = 42)\n",
    "results = cross_val_score(pipeline, X, y, cv = kfold)\n",
    "print(\"Standardized: %.2f%% (%.2f%%)\" % (results.mean()*100, results.std()*100))"
   ]
  },
  {
   "cell_type": "code",
   "execution_count": 27,
   "metadata": {},
   "outputs": [
    {
     "name": "stdout",
     "output_type": "stream",
     "text": [
      "On cross validation model gives accuracy of: 89.08% with a std of (1.63%)\n"
     ]
    }
   ],
   "source": [
    "print(\"On cross validation model gives accuracy of: %.2f%% with a std of (%.2f%%)\" % (results.mean()*100, results.std()*100))"
   ]
  },
  {
   "cell_type": "markdown",
   "metadata": {},
   "source": [
    "## Final Model and Results "
   ]
  },
  {
   "cell_type": "code",
   "execution_count": 64,
   "metadata": {},
   "outputs": [],
   "source": [
    "model = Sequential()\n",
    "model.add(Dense(60, input_dim = 352, kernel_initializer = 'normal', activation = 'relu'))\n",
    "model.add(Dense(1, kernel_initializer = 'normal', activation = 'sigmoid'))\n",
    "\n",
    "# Compiling Model \n",
    "\n",
    "earlystop = EarlyStopping(monitor = 'val_loss', min_delta = 0, patience = 2, verbose = 0, mode = 'auto')\n",
    "callbacks_list = [earlystop]\n",
    "model.compile(loss = 'binary_crossentropy', optimizer = 'adam', metrics = ['accuracy'])\n"
   ]
  },
  {
   "cell_type": "code",
   "execution_count": 65,
   "metadata": {},
   "outputs": [
    {
     "name": "stdout",
     "output_type": "stream",
     "text": [
      "Train on 21543 samples, validate on 2394 samples\n",
      "Epoch 1/20\n",
      " - 9s - loss: 6.3973 - acc: 0.5944 - val_loss: 6.0000 - val_acc: 0.6236\n",
      "Epoch 2/20\n",
      " - 8s - loss: 6.6070 - acc: 0.5856 - val_loss: 6.0000 - val_acc: 0.6236\n",
      "Epoch 3/20\n",
      " - 9s - loss: 6.6070 - acc: 0.5856 - val_loss: 6.0000 - val_acc: 0.6236\n"
     ]
    }
   ],
   "source": [
    "history = model.fit(X, y, validation_split = 0.1, epochs = 20, batch_size = 5, verbose = 2, callbacks = callbacks_list)"
   ]
  },
  {
   "cell_type": "code",
   "execution_count": 66,
   "metadata": {},
   "outputs": [
    {
     "name": "stdout",
     "output_type": "stream",
     "text": [
      "23937/23937 [==============================] - 1s 56us/step\n"
     ]
    }
   ],
   "source": [
    "loss, accuracy = model.evaluate(X, y)"
   ]
  },
  {
   "cell_type": "code",
   "execution_count": 67,
   "metadata": {},
   "outputs": [
    {
     "data": {
      "text/plain": [
       "0.5893804570330451"
      ]
     },
     "execution_count": 67,
     "metadata": {},
     "output_type": "execute_result"
    }
   ],
   "source": [
    "accuracy"
   ]
  },
  {
   "cell_type": "code",
   "execution_count": 68,
   "metadata": {},
   "outputs": [
    {
     "data": {
      "text/plain": [
       "6.546255052336208"
      ]
     },
     "execution_count": 68,
     "metadata": {},
     "output_type": "execute_result"
    }
   ],
   "source": [
    "loss"
   ]
  },
  {
   "cell_type": "markdown",
   "metadata": {},
   "source": [
    "### Standardize Features and Applying to Model "
   ]
  },
  {
   "cell_type": "code",
   "execution_count": 69,
   "metadata": {},
   "outputs": [],
   "source": [
    "\n",
    "min_max_scaler = preprocessing.MinMaxScaler()\n",
    "x_minmax = min_max_scaler.fit_transform(X)\n",
    "X_test_minmax = min_max_scaler.transform(X_test)\n",
    "\n",
    "scaler = StandardScaler()\n",
    "scaler.fit(X)\n",
    "X_scaled = scaler.transform(X)\n"
   ]
  },
  {
   "cell_type": "code",
   "execution_count": 70,
   "metadata": {},
   "outputs": [
    {
     "name": "stdout",
     "output_type": "stream",
     "text": [
      "Train on 17952 samples, validate on 5985 samples\n",
      "Epoch 1/20\n",
      " - 7s - loss: 0.3825 - acc: 0.8278 - val_loss: 1.2417 - val_acc: 0.6207\n",
      "Epoch 2/20\n",
      " - 7s - loss: 0.2839 - acc: 0.8810 - val_loss: 2.2568 - val_acc: 0.6015\n",
      "Epoch 3/20\n",
      " - 7s - loss: 0.2467 - acc: 0.8976 - val_loss: 3.3950 - val_acc: 0.5791\n"
     ]
    }
   ],
   "source": [
    "history = model.fit(X_scaled, y, validation_split = 0.25, epochs = 20, batch_size = 5, verbose = 2, callbacks = callbacks_list)"
   ]
  },
  {
   "cell_type": "code",
   "execution_count": 71,
   "metadata": {},
   "outputs": [
    {
     "name": "stdout",
     "output_type": "stream",
     "text": [
      "23937/23937 [==============================] - 1s 39us/step\n"
     ]
    }
   ],
   "source": [
    "loss, accuracy = model.evaluate(X_scaled, y)"
   ]
  },
  {
   "cell_type": "code",
   "execution_count": 72,
   "metadata": {},
   "outputs": [
    {
     "data": {
      "text/plain": [
       "0.8306387600785395"
      ]
     },
     "execution_count": 72,
     "metadata": {},
     "output_type": "execute_result"
    }
   ],
   "source": [
    "accuracy"
   ]
  },
  {
   "cell_type": "code",
   "execution_count": 73,
   "metadata": {},
   "outputs": [
    {
     "data": {
      "text/plain": [
       "1.0133577173513273"
      ]
     },
     "execution_count": 73,
     "metadata": {},
     "output_type": "execute_result"
    }
   ],
   "source": [
    "loss"
   ]
  },
  {
   "cell_type": "code",
   "execution_count": 74,
   "metadata": {},
   "outputs": [
    {
     "name": "stdout",
     "output_type": "stream",
     "text": [
      "dict_keys(['val_loss', 'val_acc', 'loss', 'acc'])\n"
     ]
    },
    {
     "data": {
      "image/png": "[encoded data removed]",
      "text/plain": [
       "<matplotlib.figure.Figure at 0x1a32b07cf8>"
      ]
     },
     "metadata": {},
     "output_type": "display_data"
    },
    {
     "data": {
      "image/png": "[encoded data removed]",
      "text/plain": [
       "<matplotlib.figure.Figure at 0x1a322b8160>"
      ]
     },
     "metadata": {},
     "output_type": "display_data"
    }
   ],
   "source": [
    "# list all data in history / code used directly from kaggle for this plot \n",
    "print(history.history.keys())\n",
    "# summarize history for accuracy\n",
    "plt.plot(history.history['acc'])\n",
    "plt.plot(history.history['val_acc'])\n",
    "plt.title('model accuracy')\n",
    "plt.ylabel('accuracy')\n",
    "plt.xlabel('epoch')\n",
    "plt.ylim(0.7,1)\n",
    "plt.legend(['train', 'test'], loc='upper left')\n",
    "plt.show()\n",
    "# summarize history for loss\n",
    "plt.plot(history.history['loss'])\n",
    "plt.plot(history.history['val_loss'])\n",
    "plt.title('model loss')\n",
    "plt.ylabel('loss')\n",
    "plt.xlabel('epoch')\n",
    "plt.ylim(0,0.7)\n",
    "plt.legend(['train', 'test'], loc='upper left')\n",
    "plt.show()"
   ]
  },
  {
   "cell_type": "code",
   "execution_count": null,
   "metadata": {},
   "outputs": [],
   "source": []
  }
 ],
 "metadata": {
  "kernelspec": {
   "display_name": "Python 3",
   "language": "python",
   "name": "python3"
  },
  "language_info": {
   "codemirror_mode": {
    "name": "ipython",
    "version": 3
   },
   "file_extension": ".py",
   "mimetype": "text/x-python",
   "name": "python",
   "nbconvert_exporter": "python",
   "pygments_lexer": "ipython3",
   "version": "3.6.4"
  }
 },
 "nbformat": 4,
 "nbformat_minor": 2
}
