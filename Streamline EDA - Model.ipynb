{
 "cells": [
  {
   "cell_type": "markdown",
   "metadata": {},
   "source": [
    "# Predicting Opioid Prescribers"
   ]
  },
  {
   "cell_type": "code",
   "execution_count": 21,
   "metadata": {},
   "outputs": [],
   "source": [
    "import warnings\n",
    "warnings.filterwarnings('ignore')\n",
    "\n",
    "import pandas as pd\n",
    "import numpy as np\n",
    "import matplotlib.pyplot as plt\n",
    "from sklearn import preprocessing\n",
    "from sklearn.preprocessing import StandardScaler\n",
    "from keras.callbacks import EarlyStopping\n",
    "from keras.models import Sequential\n",
    "from keras.layers import Dense\n",
    "from keras.wrappers.scikit_learn import KerasClassifier\n",
    "from sklearn.model_selection import cross_val_score\n",
    "from sklearn.preprocessing import LabelEncoder\n",
    "from sklearn.model_selection import StratifiedKFold\n",
    "from sklearn.preprocessing import StandardScaler\n",
    "from sklearn.pipeline import Pipeline\n",
    "from sklearn.tree import DecisionTreeClassifier\n",
    "from sklearn.ensemble import BaggingClassifier, RandomForestClassifier\n",
    "from sklearn.pipeline import Pipeline, FeatureUnion\n",
    "from sklearn.preprocessing import StandardScaler\n",
    "from sklearn.neighbors import KNeighborsRegressor, KNeighborsClassifier\n",
    "from sklearn.linear_model import LogisticRegression\n",
    "import matplotlib.pyplot as plt\n",
    "import re\n",
    "from sklearn import metrics\n",
    "from keras.callbacks import EarlyStopping\n",
    "from keras.models import Sequential\n",
    "from keras.layers import Dense\n",
    "from keras.wrappers.scikit_learn import KerasClassifier\n",
    "from sklearn.tree import DecisionTreeClassifier\n",
    "from sklearn.model_selection import train_test_split\n",
    "\n"
   ]
  },
  {
   "cell_type": "markdown",
   "metadata": {},
   "source": [
    "## Introduction"
   ]
  },
  {
   "cell_type": "markdown",
   "metadata": {},
   "source": [
    "For my capstone project, I’ve decided to tackle the major issue that is the opioid crisis in America. Right now, America faces an average of 115 opioid overdose deaths each day. Over 270 million prescriptions were written in 2012 alone and are a big contributing factor to this issue. As data scientists, we can’t really question whether doctors are pushing prescriptions from sponsorship from pharmaceutical companies, or if they are constantly barraged by patients claiming they are in severe pain and actually need the medication, or really, most other factors for that matter. So, what I wanted to do was try and find the likelihood that a provider would prescribe an opioid and identify any patterns, if any, from that data."
   ]
  },
  {
   "cell_type": "code",
   "execution_count": 3,
   "metadata": {},
   "outputs": [],
   "source": [
    "# Importing in the data \n",
    "\n",
    "prescribers = pd.read_csv('prescriber-info.csv')"
   ]
  },
  {
   "cell_type": "markdown",
   "metadata": {},
   "source": [
    "## Feature Selection"
   ]
  },
  {
   "cell_type": "markdown",
   "metadata": {},
   "source": [
    "Here I am just redoing what I did in previous notebooks because I ran into problems with my data at some point. "
   ]
  },
  {
   "cell_type": "code",
   "execution_count": 5,
   "metadata": {},
   "outputs": [],
   "source": [
    "# Grouping by specialty \n",
    "\n",
    "specialty = pd.DataFrame(prescribers.groupby(['Specialty']).count()['NPI']).sort_values('NPI')\n"
   ]
  },
  {
   "cell_type": "code",
   "execution_count": 11,
   "metadata": {},
   "outputs": [],
   "source": [
    "# Grouping by other/rare specialty\n",
    "\n",
    "other_specialty = list(specialty.loc[specialty['NPI']<40].index)\n"
   ]
  },
  {
   "cell_type": "code",
   "execution_count": 12,
   "metadata": {},
   "outputs": [],
   "source": [
    "# Grouping by Credentials \n",
    "\n",
    "credentials = pd.DataFrame(prescribers.groupby(['Credentials']).count()['NPI']).reset_index(False)"
   ]
  },
  {
   "cell_type": "code",
   "execution_count": 13,
   "metadata": {},
   "outputs": [],
   "source": [
    "# Dropping both NPI and Credentials since they are redudent. \n",
    "\n",
    "prescribers_new = prescribers.drop( ['NPI','Credentials'], axis=1)\n"
   ]
  },
  {
   "cell_type": "code",
   "execution_count": 15,
   "metadata": {},
   "outputs": [],
   "source": [
    "# Dummying gender, specialty and state for multicollinearity issues. \n",
    "\n",
    "prescribers_new = pd.get_dummies(prescribersData, columns=['Gender','Specialty','State'], drop_first=True)"
   ]
  },
  {
   "cell_type": "markdown",
   "metadata": {},
   "source": [
    "## Modeling"
   ]
  },
  {
   "cell_type": "code",
   "execution_count": 18,
   "metadata": {},
   "outputs": [],
   "source": [
    "# Assigning X, y variables \n",
    "# The target here is Opioid.Prescriber since we are trying to find liklihood of opioids prescribed.\n",
    "\n",
    "X = prescribers_new.drop(['Opioid.Prescriber'],axis=1).values.astype(float)\n",
    "y = prescribers_new['Opioid.Prescriber'].values"
   ]
  },
  {
   "cell_type": "code",
   "execution_count": 22,
   "metadata": {},
   "outputs": [],
   "source": [
    "# Train / Test Split \n",
    "\n",
    "X_train, X_test, y_train, y_test = train_test_split(X, y, test_size=0.3, random_state=42)"
   ]
  },
  {
   "cell_type": "code",
   "execution_count": 23,
   "metadata": {},
   "outputs": [
    {
     "name": "stdout",
     "output_type": "stream",
     "text": [
      "0.912\n",
      "0.9236571428571428\n"
     ]
    }
   ],
   "source": [
    "# Logistic Regression \n",
    "\n",
    "# Set up pipeline \n",
    "ss = StandardScaler()\n",
    "logreg = LogisticRegression()\n",
    "pipes = Pipeline([('ss', ss), ('logreg', logreg)])\n",
    "\n",
    "# Fit pipeline \n",
    "pipes.fit(X_train, y_train)\n",
    "print(pipes.score(X_test, y_test))\n",
    "print(pipes.score(X_train, y_train))"
   ]
  },
  {
   "cell_type": "markdown",
   "metadata": {},
   "source": [
    "#### Logistic Regression performing 91%"
   ]
  },
  {
   "cell_type": "code",
   "execution_count": 24,
   "metadata": {},
   "outputs": [
    {
     "name": "stdout",
     "output_type": "stream",
     "text": [
      "0.8632\n",
      "0.9007428571428572\n"
     ]
    }
   ],
   "source": [
    "# KNN \n",
    "\n",
    "knn = KNeighborsClassifier()\n",
    "knn.fit(X_train, y_train)\n",
    "print(knn.score(X_test, y_test)) \n",
    "print(knn.score(X_train, y_train))"
   ]
  },
  {
   "cell_type": "markdown",
   "metadata": {},
   "source": [
    "#### KNN performing at 86%"
   ]
  },
  {
   "cell_type": "code",
   "execution_count": 25,
   "metadata": {},
   "outputs": [
    {
     "name": "stdout",
     "output_type": "stream",
     "text": [
      "0.8986666666666666\n",
      "0.9984\n"
     ]
    }
   ],
   "source": [
    "# Decision Tree \n",
    "\n",
    "decisiontree = DecisionTreeClassifier()\n",
    "model = decisiontree.fit(X_train, y_train)\n",
    "print(model.score(X_test, y_test))\n",
    "print(model.score(X_train, y_train))"
   ]
  },
  {
   "cell_type": "markdown",
   "metadata": {},
   "source": [
    "#### Decision Trees Performing at 89%"
   ]
  },
  {
   "cell_type": "code",
   "execution_count": 26,
   "metadata": {},
   "outputs": [
    {
     "name": "stdout",
     "output_type": "stream",
     "text": [
      "0.9186666666666666\n",
      "0.9895428571428572\n"
     ]
    }
   ],
   "source": [
    "# Bagged Decision\n",
    "\n",
    "bagging = BaggingClassifier()\n",
    "bagging.fit(X_train, y_train)\n",
    "print(bagging.score(X_test, y_test))\n",
    "print(bagging.score(X_train, y_train))"
   ]
  },
  {
   "cell_type": "markdown",
   "metadata": {},
   "source": [
    "#### Bagged Decision Trees Performing at 91%"
   ]
  },
  {
   "cell_type": "code",
   "execution_count": 27,
   "metadata": {},
   "outputs": [
    {
     "name": "stdout",
     "output_type": "stream",
     "text": [
      "0.9169333333333334\n",
      "0.9923428571428572\n"
     ]
    }
   ],
   "source": [
    "# Random Forest\n",
    "\n",
    "rf = RandomForestClassifier()\n",
    "rf.fit(X_train, y_train)\n",
    "print(rf.score(X_test, y_test))\n",
    "print(rf.score(X_train, y_train))"
   ]
  },
  {
   "cell_type": "markdown",
   "metadata": {},
   "source": [
    "#### Random Forest performing at 91%"
   ]
  },
  {
   "cell_type": "code",
   "execution_count": 28,
   "metadata": {},
   "outputs": [
    {
     "name": "stdout",
     "output_type": "stream",
     "text": [
      "0.9268\n",
      "0.9299428571428572\n"
     ]
    }
   ],
   "source": [
    "# Adaboost\n",
    "\n",
    "abr = AdaBoostClassifier()\n",
    "abr.fit(X_train, y_train)\n",
    "print(abr.score(X_test, y_test))\n",
    "print(abr.score(X_train, y_train))\n",
    "\n",
    "# This model is overfitting, I think "
   ]
  },
  {
   "cell_type": "markdown",
   "metadata": {},
   "source": [
    "#### Adaboost looks like it may be overfitting "
   ]
  },
  {
   "cell_type": "markdown",
   "metadata": {},
   "source": [
    "## Evaluating models using f1 score"
   ]
  },
  {
   "cell_type": "code",
   "execution_count": null,
   "metadata": {},
   "outputs": [],
   "source": [
    "# Defining f1-score function\n",
    "\n",
    "def f1(model, X, y):\n",
    "    y_pred = model.predict(X)\n",
    "    f1 = metrics.f1_score(y, y_pred) \n",
    "    return f1"
   ]
  },
  {
   "cell_type": "code",
   "execution_count": null,
   "metadata": {},
   "outputs": [],
   "source": [
    "# Logistic Regression Evaluation\n",
    "\n",
    "f1(pipes, X_test, y_test), f1(pipes, X_train, y_train)"
   ]
  },
  {
   "cell_type": "code",
   "execution_count": null,
   "metadata": {},
   "outputs": [],
   "source": [
    "# KNN Evaluation \n",
    "\n",
    "f1(knn, X_test, y_test), f1(knn, X_train, y_train)"
   ]
  },
  {
   "cell_type": "code",
   "execution_count": null,
   "metadata": {},
   "outputs": [],
   "source": [
    "# Decision Tree Evaluation\n",
    "\n",
    "f1(decisiontree, X_test, y_test), f1(decisiontree, X_train, y_train)"
   ]
  },
  {
   "cell_type": "code",
   "execution_count": null,
   "metadata": {},
   "outputs": [],
   "source": [
    "# Bagged Tree Evaluation \n",
    "\n",
    "f1(bagging, X_test, y_test), f1(bagging, X_train, y_train)"
   ]
  },
  {
   "cell_type": "code",
   "execution_count": null,
   "metadata": {},
   "outputs": [],
   "source": [
    "# Random Forest Evaluation \n",
    "\n",
    "f1(rf, X_test, y_test), f1(rf, X_train, y_train)"
   ]
  },
  {
   "cell_type": "code",
   "execution_count": null,
   "metadata": {},
   "outputs": [],
   "source": [
    "# ADA Evaluation\n",
    "\n",
    "f1(abr, X_test, y_test), f1(abr, X_train, y_train)"
   ]
  },
  {
   "cell_type": "markdown",
   "metadata": {},
   "source": [
    "## Nueral Network with Cross Validation "
   ]
  },
  {
   "cell_type": "markdown",
   "metadata": {},
   "source": [
    "Thanks to Abhijay Ghildyal for a lot of the NN code here, I just had to change some parameters to get better results. "
   ]
  },
  {
   "cell_type": "code",
   "execution_count": 30,
   "metadata": {},
   "outputs": [],
   "source": [
    "# Encoding class values as integers \n",
    "\n",
    "encoder = LabelEncoder()\n",
    "encoder.fit(y)\n",
    "encoded_y = encoder.transform(y)"
   ]
  },
  {
   "cell_type": "code",
   "execution_count": 33,
   "metadata": {},
   "outputs": [],
   "source": [
    "# Creating baseline for model\n",
    "\n",
    "def create_baseline():\n",
    "    # Build model \n",
    "    model = Sequential()\n",
    "    model.add(Dense(60, input_dim = 415, kernel_initializer= 'normal', activation = 'relu'))\n",
    "    model.add(Dense(1, kernel_initializer = 'normal', activation = 'sigmoid'))\n",
    "    \n",
    "    # Compile Model\n",
    "    \n",
    "    model.compile(loss = 'binary_crossentropy', optimizer = 'adam', metrics = ['accuracy'])\n",
    "    return model"
   ]
  },
  {
   "cell_type": "code",
   "execution_count": 34,
   "metadata": {},
   "outputs": [
    {
     "name": "stdout",
     "output_type": "stream",
     "text": [
      "Epoch 1/1\n",
      "22499/22499 [==============================] - 9s 391us/step - loss: 0.3312 - acc: 0.8964\n",
      "2501/2501 [==============================] - 0s 192us/step\n",
      "Epoch 1/1\n",
      "22499/22499 [==============================] - 9s 406us/step - loss: 0.3230 - acc: 0.8964\n",
      "2501/2501 [==============================] - 1s 205us/step\n",
      "Epoch 1/1\n",
      "22500/22500 [==============================] - 9s 421us/step - loss: 0.3416 - acc: 0.8955\n",
      "2500/2500 [==============================] - 1s 204us/step\n",
      "Epoch 1/1\n",
      "22500/22500 [==============================] - 9s 417us/step - loss: 0.3418 - acc: 0.8941\n",
      "2500/2500 [==============================] - 1s 204us/step\n",
      "Epoch 1/1\n",
      "22500/22500 [==============================] - 9s 422us/step - loss: 0.3251 - acc: 0.8942\n",
      "2500/2500 [==============================] - 0s 191us/step\n",
      "Epoch 1/1\n",
      "22500/22500 [==============================] - 9s 418us/step - loss: 0.3291 - acc: 0.9004\n",
      "2500/2500 [==============================] - 1s 219us/step\n",
      "Epoch 1/1\n",
      "22500/22500 [==============================] - 9s 412us/step - loss: 0.3315 - acc: 0.8981\n",
      "2500/2500 [==============================] - 1s 230us/step\n",
      "Epoch 1/1\n",
      "22500/22500 [==============================] - 10s 453us/step - loss: 0.3281 - acc: 0.9012\n",
      "2500/2500 [==============================] - 0s 198us/step\n",
      "Epoch 1/1\n",
      "22501/22501 [==============================] - 9s 403us/step - loss: 0.3263 - acc: 0.8981\n",
      "2499/2499 [==============================] - 0s 194us/step\n",
      "Epoch 1/1\n",
      "22501/22501 [==============================] - 9s 417us/step - loss: 0.3167 - acc: 0.8984\n",
      "2499/2499 [==============================] - 1s 306us/step\n",
      "Results: 91.26% (0.88%)\n"
     ]
    }
   ],
   "source": [
    "# Evaluating model with the standardized dataset \n",
    "\n",
    "estimator = KerasClassifier(build_fn = create_baseline, nb_epoch = 100, batch_size = 5, verbose = 1)\n",
    "kfold = StratifiedKFold(n_splits = 10, shuffle = True, random_state = 42)\n",
    "results = cross_val_score(estimator, X, encoded_y, cv = kfold)\n",
    "print(\"Results: %.2f%% (%.2f%%)\" % (results.mean()*100, results.std()*100))\n"
   ]
  },
  {
   "cell_type": "code",
   "execution_count": 35,
   "metadata": {},
   "outputs": [
    {
     "name": "stdout",
     "output_type": "stream",
     "text": [
      "Epoch 1/20\n",
      " - 8s - loss: 0.3757 - acc: 0.8259\n",
      "Epoch 2/20\n",
      " - 8s - loss: 0.2976 - acc: 0.8696\n",
      "Epoch 3/20\n",
      " - 8s - loss: 0.2622 - acc: 0.8857\n",
      "Epoch 4/20\n",
      " - 8s - loss: 0.2378 - acc: 0.8975\n",
      "Epoch 5/20\n",
      " - 8s - loss: 0.2210 - acc: 0.9056\n",
      "Epoch 6/20\n",
      " - 9s - loss: 0.2064 - acc: 0.9141\n",
      "Epoch 7/20\n",
      " - 8s - loss: 0.1957 - acc: 0.9192\n",
      "Epoch 8/20\n",
      " - 8s - loss: 0.1852 - acc: 0.9241\n",
      "Epoch 9/20\n",
      " - 8s - loss: 0.1779 - acc: 0.9271\n",
      "Epoch 10/20\n",
      " - 8s - loss: 0.1720 - acc: 0.9309\n",
      "Epoch 11/20\n",
      " - 8s - loss: 0.1658 - acc: 0.9336\n",
      "Epoch 12/20\n",
      " - 8s - loss: 0.1584 - acc: 0.9361\n",
      "Epoch 13/20\n",
      " - 7s - loss: 0.1542 - acc: 0.9372\n",
      "Epoch 14/20\n",
      " - 7s - loss: 0.1514 - acc: 0.9414\n",
      "Epoch 15/20\n",
      " - 7s - loss: 0.1461 - acc: 0.9428\n",
      "Epoch 16/20\n",
      " - 8s - loss: 0.1401 - acc: 0.9442\n",
      "Epoch 17/20\n",
      " - 9s - loss: 0.1395 - acc: 0.9451\n",
      "Epoch 18/20\n",
      " - 8s - loss: 0.1330 - acc: 0.9483\n",
      "Epoch 19/20\n",
      " - 7s - loss: 0.1284 - acc: 0.9505\n",
      "Epoch 20/20\n",
      " - 7s - loss: 0.1297 - acc: 0.9507\n",
      "Epoch 1/20\n",
      " - 7s - loss: 0.3727 - acc: 0.8290\n",
      "Epoch 2/20\n",
      " - 7s - loss: 0.2956 - acc: 0.8697\n",
      "Epoch 3/20\n",
      " - 8s - loss: 0.2605 - acc: 0.8875\n",
      "Epoch 4/20\n",
      " - 8s - loss: 0.2381 - acc: 0.8986\n",
      "Epoch 5/20\n",
      " - 8s - loss: 0.2181 - acc: 0.9084\n",
      "Epoch 6/20\n",
      " - 8s - loss: 0.2039 - acc: 0.9144\n",
      "Epoch 7/20\n",
      " - 8s - loss: 0.1922 - acc: 0.9198\n",
      "Epoch 8/20\n",
      " - 7s - loss: 0.1858 - acc: 0.9257\n",
      "Epoch 9/20\n",
      " - 8s - loss: 0.1771 - acc: 0.9279\n",
      "Epoch 10/20\n",
      " - 7s - loss: 0.1686 - acc: 0.9320\n",
      "Epoch 11/20\n",
      " - 9s - loss: 0.1632 - acc: 0.9351\n",
      "Epoch 12/20\n",
      " - 9s - loss: 0.1571 - acc: 0.9385\n",
      "Epoch 13/20\n",
      " - 8s - loss: 0.1515 - acc: 0.9386\n",
      "Epoch 14/20\n",
      " - 8s - loss: 0.1479 - acc: 0.9420\n",
      "Epoch 15/20\n",
      " - 8s - loss: 0.1413 - acc: 0.9449\n",
      "Epoch 16/20\n",
      " - 8s - loss: 0.1410 - acc: 0.9456\n",
      "Epoch 17/20\n",
      " - 8s - loss: 0.1340 - acc: 0.9472\n",
      "Epoch 18/20\n",
      " - 8s - loss: 0.1315 - acc: 0.9496\n",
      "Epoch 19/20\n",
      " - 10s - loss: 0.1289 - acc: 0.9509\n",
      "Epoch 20/20\n",
      " - 10s - loss: 0.1279 - acc: 0.9510\n",
      "Epoch 1/20\n",
      " - 8s - loss: 0.3747 - acc: 0.8289\n",
      "Epoch 2/20\n",
      " - 8s - loss: 0.2945 - acc: 0.8708\n",
      "Epoch 3/20\n",
      " - 7s - loss: 0.2619 - acc: 0.8891\n",
      "Epoch 4/20\n",
      " - 7s - loss: 0.2382 - acc: 0.8978\n",
      "Epoch 5/20\n",
      " - 7s - loss: 0.2204 - acc: 0.9087\n",
      "Epoch 6/20\n",
      " - 7s - loss: 0.2085 - acc: 0.9153\n",
      "Epoch 7/20\n",
      " - 7s - loss: 0.1971 - acc: 0.9200\n",
      "Epoch 8/20\n",
      " - 7s - loss: 0.1881 - acc: 0.9249\n",
      "Epoch 9/20\n",
      " - 7s - loss: 0.1815 - acc: 0.9263\n",
      "Epoch 10/20\n",
      " - 7s - loss: 0.1731 - acc: 0.9300\n",
      "Epoch 11/20\n",
      " - 8s - loss: 0.1670 - acc: 0.9336\n",
      "Epoch 12/20\n",
      " - 9s - loss: 0.1612 - acc: 0.9352\n",
      "Epoch 13/20\n",
      " - 9s - loss: 0.1560 - acc: 0.9372\n",
      "Epoch 14/20\n",
      " - 8s - loss: 0.1513 - acc: 0.9416\n",
      "Epoch 15/20\n",
      " - 7s - loss: 0.1480 - acc: 0.9415\n",
      "Epoch 16/20\n",
      " - 8s - loss: 0.1428 - acc: 0.9436\n",
      "Epoch 17/20\n",
      " - 7s - loss: 0.1406 - acc: 0.9458\n",
      "Epoch 18/20\n",
      " - 8s - loss: 0.1360 - acc: 0.9460\n",
      "Epoch 19/20\n",
      " - 8s - loss: 0.1326 - acc: 0.9479\n",
      "Epoch 20/20\n",
      " - 8s - loss: 0.1282 - acc: 0.9511\n",
      "Epoch 1/20\n",
      " - 8s - loss: 0.3756 - acc: 0.8289\n",
      "Epoch 2/20\n",
      " - 8s - loss: 0.2974 - acc: 0.8671\n",
      "Epoch 3/20\n",
      " - 8s - loss: 0.2625 - acc: 0.8853\n",
      "Epoch 4/20\n",
      " - 8s - loss: 0.2391 - acc: 0.8992\n",
      "Epoch 5/20\n",
      " - 8s - loss: 0.2198 - acc: 0.9075\n",
      "Epoch 6/20\n",
      " - 8s - loss: 0.2084 - acc: 0.9136\n",
      "Epoch 7/20\n",
      " - 8s - loss: 0.1967 - acc: 0.9192\n",
      "Epoch 8/20\n",
      " - 8s - loss: 0.1897 - acc: 0.9223\n",
      "Epoch 9/20\n",
      " - 8s - loss: 0.1778 - acc: 0.9283\n",
      "Epoch 10/20\n",
      " - 9s - loss: 0.1710 - acc: 0.9321\n",
      "Epoch 11/20\n",
      " - 8s - loss: 0.1656 - acc: 0.9327\n",
      "Epoch 12/20\n",
      " - 8s - loss: 0.1598 - acc: 0.9366\n",
      "Epoch 13/20\n",
      " - 7s - loss: 0.1530 - acc: 0.9380\n",
      "Epoch 14/20\n",
      " - 7s - loss: 0.1492 - acc: 0.9393\n",
      "Epoch 15/20\n",
      " - 9s - loss: 0.1485 - acc: 0.9422\n",
      "Epoch 16/20\n",
      " - 9s - loss: 0.1418 - acc: 0.9451\n",
      "Epoch 17/20\n",
      " - 9s - loss: 0.1382 - acc: 0.9455\n",
      "Epoch 18/20\n",
      " - 9s - loss: 0.1333 - acc: 0.9474\n",
      "Epoch 19/20\n",
      " - 8s - loss: 0.1307 - acc: 0.9477\n",
      "Epoch 20/20\n",
      " - 8s - loss: 0.1272 - acc: 0.9515\n",
      "Epoch 1/20\n",
      " - 9s - loss: 0.3771 - acc: 0.8259\n",
      "Epoch 2/20\n",
      " - 8s - loss: 0.3002 - acc: 0.8682\n",
      "Epoch 3/20\n",
      " - 7s - loss: 0.2610 - acc: 0.8882\n",
      "Epoch 4/20\n",
      " - 9s - loss: 0.2399 - acc: 0.8961\n",
      "Epoch 5/20\n",
      " - 12s - loss: 0.2202 - acc: 0.9054\n",
      "Epoch 6/20\n",
      " - 17s - loss: 0.2082 - acc: 0.9139\n",
      "Epoch 7/20\n",
      " - 13s - loss: 0.1975 - acc: 0.9186\n",
      "Epoch 8/20\n",
      " - 15s - loss: 0.1888 - acc: 0.9250\n",
      "Epoch 9/20\n",
      " - 13s - loss: 0.1798 - acc: 0.9245\n",
      "Epoch 10/20\n",
      " - 12s - loss: 0.1732 - acc: 0.9307\n",
      "Epoch 11/20\n",
      " - 11s - loss: 0.1629 - acc: 0.9336\n",
      "Epoch 12/20\n",
      " - 12s - loss: 0.1633 - acc: 0.9344\n",
      "Epoch 13/20\n",
      " - 12s - loss: 0.1556 - acc: 0.9370\n",
      "Epoch 14/20\n",
      " - 10s - loss: 0.1486 - acc: 0.9403\n",
      "Epoch 15/20\n",
      " - 12s - loss: 0.1450 - acc: 0.9432\n",
      "Epoch 16/20\n",
      " - 8s - loss: 0.1416 - acc: 0.9451\n",
      "Epoch 17/20\n",
      " - 7s - loss: 0.1409 - acc: 0.9445\n",
      "Epoch 18/20\n",
      " - 7s - loss: 0.1341 - acc: 0.9469\n",
      "Epoch 19/20\n",
      " - 7s - loss: 0.1303 - acc: 0.9480\n",
      "Epoch 20/20\n",
      " - 11s - loss: 0.1295 - acc: 0.9488\n",
      "Epoch 1/20\n",
      " - 12s - loss: 0.3736 - acc: 0.8275\n",
      "Epoch 2/20\n",
      " - 11s - loss: 0.2989 - acc: 0.8677\n",
      "Epoch 3/20\n",
      " - 10s - loss: 0.2619 - acc: 0.8874\n",
      "Epoch 4/20\n",
      " - 9s - loss: 0.2393 - acc: 0.8987\n",
      "Epoch 5/20\n",
      " - 8s - loss: 0.2217 - acc: 0.9076\n",
      "Epoch 6/20\n",
      " - 9s - loss: 0.2108 - acc: 0.9122\n",
      "Epoch 7/20\n",
      " - 7s - loss: 0.1977 - acc: 0.9188\n",
      "Epoch 8/20\n",
      " - 7s - loss: 0.1896 - acc: 0.9212\n",
      "Epoch 9/20\n",
      " - 7s - loss: 0.1816 - acc: 0.9274\n",
      "Epoch 10/20\n",
      " - 7s - loss: 0.1737 - acc: 0.9301\n",
      "Epoch 11/20\n",
      " - 8s - loss: 0.1660 - acc: 0.9340\n",
      "Epoch 12/20\n",
      " - 7s - loss: 0.1625 - acc: 0.9360\n",
      "Epoch 13/20\n",
      " - 7s - loss: 0.1558 - acc: 0.9396\n",
      "Epoch 14/20\n",
      " - 7s - loss: 0.1506 - acc: 0.9404\n",
      "Epoch 15/20\n",
      " - 7s - loss: 0.1465 - acc: 0.9416\n",
      "Epoch 16/20\n",
      " - 7s - loss: 0.1416 - acc: 0.9446\n",
      "Epoch 17/20\n",
      " - 7s - loss: 0.1378 - acc: 0.9448\n",
      "Epoch 18/20\n",
      " - 7s - loss: 0.1371 - acc: 0.9473\n",
      "Epoch 19/20\n",
      " - 7s - loss: 0.1356 - acc: 0.9467\n",
      "Epoch 20/20\n",
      " - 7s - loss: 0.1281 - acc: 0.9513\n",
      "Epoch 1/20\n",
      " - 8s - loss: 0.3704 - acc: 0.8308\n",
      "Epoch 2/20\n",
      " - 9s - loss: 0.2971 - acc: 0.8690\n",
      "Epoch 3/20\n",
      " - 8s - loss: 0.2625 - acc: 0.8846\n",
      "Epoch 4/20\n",
      " - 8s - loss: 0.2406 - acc: 0.8966\n",
      "Epoch 5/20\n",
      " - 8s - loss: 0.2205 - acc: 0.9065\n",
      "Epoch 6/20\n",
      " - 9s - loss: 0.2075 - acc: 0.9132\n",
      "Epoch 7/20\n",
      " - 8s - loss: 0.1961 - acc: 0.9191\n",
      "Epoch 8/20\n",
      " - 8s - loss: 0.1884 - acc: 0.9212\n",
      "Epoch 9/20\n",
      " - 8s - loss: 0.1776 - acc: 0.9269\n",
      "Epoch 10/20\n",
      " - 9s - loss: 0.1731 - acc: 0.9296\n",
      "Epoch 11/20\n",
      " - 8s - loss: 0.1660 - acc: 0.9335\n",
      "Epoch 12/20\n",
      " - 8s - loss: 0.1613 - acc: 0.9352\n",
      "Epoch 13/20\n",
      " - 7s - loss: 0.1532 - acc: 0.9372\n",
      "Epoch 14/20\n",
      " - 7s - loss: 0.1493 - acc: 0.9404\n",
      "Epoch 15/20\n",
      " - 7s - loss: 0.1438 - acc: 0.9433\n",
      "Epoch 16/20\n",
      " - 8s - loss: 0.1435 - acc: 0.9442\n",
      "Epoch 17/20\n",
      " - 8s - loss: 0.1373 - acc: 0.9471\n",
      "Epoch 18/20\n",
      " - 7s - loss: 0.1312 - acc: 0.9484\n",
      "Epoch 19/20\n",
      " - 7s - loss: 0.1330 - acc: 0.9488\n",
      "Epoch 20/20\n",
      " - 8s - loss: 0.1286 - acc: 0.9507\n",
      "Epoch 1/20\n",
      " - 9s - loss: 0.3748 - acc: 0.8260\n",
      "Epoch 2/20\n",
      " - 9s - loss: 0.2982 - acc: 0.8667\n",
      "Epoch 3/20\n",
      " - 9s - loss: 0.2628 - acc: 0.8848\n",
      "Epoch 4/20\n",
      " - 8s - loss: 0.2400 - acc: 0.8964\n",
      "Epoch 5/20\n",
      " - 8s - loss: 0.2236 - acc: 0.9073\n",
      "Epoch 6/20\n",
      " - 9s - loss: 0.2103 - acc: 0.9123\n",
      "Epoch 7/20\n",
      " - 8s - loss: 0.1985 - acc: 0.9192\n",
      "Epoch 8/20\n",
      " - 8s - loss: 0.1885 - acc: 0.9242\n",
      "Epoch 9/20\n",
      " - 10s - loss: 0.1792 - acc: 0.9275\n",
      "Epoch 10/20\n",
      " - 9s - loss: 0.1733 - acc: 0.9321\n",
      "Epoch 11/20\n",
      " - 7s - loss: 0.1663 - acc: 0.9340\n",
      "Epoch 12/20\n",
      " - 7s - loss: 0.1609 - acc: 0.9356\n",
      "Epoch 13/20\n",
      " - 7s - loss: 0.1544 - acc: 0.9390\n",
      "Epoch 14/20\n",
      " - 8s - loss: 0.1508 - acc: 0.9391\n",
      "Epoch 15/20\n",
      " - 10s - loss: 0.1451 - acc: 0.9432\n",
      "Epoch 16/20\n",
      " - 8s - loss: 0.1393 - acc: 0.9445\n",
      "Epoch 17/20\n",
      " - 9s - loss: 0.1387 - acc: 0.9460\n",
      "Epoch 18/20\n",
      " - 8s - loss: 0.1334 - acc: 0.9492\n",
      "Epoch 19/20\n",
      " - 8s - loss: 0.1290 - acc: 0.9501\n",
      "Epoch 20/20\n",
      " - 7s - loss: 0.1248 - acc: 0.9512\n",
      "Epoch 1/20\n",
      " - 8s - loss: 0.3757 - acc: 0.8297\n",
      "Epoch 2/20\n",
      " - 7s - loss: 0.2994 - acc: 0.8674\n",
      "Epoch 3/20\n",
      " - 7s - loss: 0.2628 - acc: 0.8849\n",
      "Epoch 4/20\n",
      " - 9s - loss: 0.2348 - acc: 0.9005\n",
      "Epoch 5/20\n",
      " - 7s - loss: 0.2205 - acc: 0.9079\n",
      "Epoch 6/20\n",
      " - 10s - loss: 0.2083 - acc: 0.9150\n",
      "Epoch 7/20\n",
      " - 9s - loss: 0.1971 - acc: 0.9174\n",
      "Epoch 8/20\n",
      " - 9s - loss: 0.1899 - acc: 0.9224\n",
      "Epoch 9/20\n",
      " - 11s - loss: 0.1817 - acc: 0.9267\n",
      "Epoch 10/20\n",
      " - 10s - loss: 0.1749 - acc: 0.9301\n",
      "Epoch 11/20\n",
      " - 8s - loss: 0.1672 - acc: 0.9328\n",
      "Epoch 12/20\n",
      " - 8s - loss: 0.1638 - acc: 0.9342\n",
      "Epoch 13/20\n",
      " - 11s - loss: 0.1576 - acc: 0.9379\n",
      "Epoch 14/20\n",
      " - 8s - loss: 0.1527 - acc: 0.9399\n",
      "Epoch 15/20\n",
      " - 7s - loss: 0.1490 - acc: 0.9416\n",
      "Epoch 16/20\n",
      " - 8s - loss: 0.1444 - acc: 0.9437\n"
     ]
    },
    {
     "name": "stdout",
     "output_type": "stream",
     "text": [
      "Epoch 17/20\n",
      " - 7s - loss: 0.1410 - acc: 0.9444\n",
      "Epoch 18/20\n",
      " - 8s - loss: 0.1350 - acc: 0.9468\n",
      "Epoch 19/20\n",
      " - 9s - loss: 0.1343 - acc: 0.9480\n",
      "Epoch 20/20\n",
      " - 8s - loss: 0.1297 - acc: 0.9499\n",
      "Epoch 1/20\n",
      " - 9s - loss: 0.3729 - acc: 0.8300\n",
      "Epoch 2/20\n",
      " - 8s - loss: 0.2964 - acc: 0.8705\n",
      "Epoch 3/20\n",
      " - 8s - loss: 0.2618 - acc: 0.8858\n",
      "Epoch 4/20\n",
      " - 9s - loss: 0.2386 - acc: 0.8987\n",
      "Epoch 5/20\n",
      " - 9s - loss: 0.2238 - acc: 0.9059\n",
      "Epoch 6/20\n",
      " - 9s - loss: 0.2097 - acc: 0.9115\n",
      "Epoch 7/20\n",
      " - 8s - loss: 0.1980 - acc: 0.9185\n",
      "Epoch 8/20\n",
      " - 8s - loss: 0.1892 - acc: 0.9223\n",
      "Epoch 9/20\n",
      " - 9s - loss: 0.1777 - acc: 0.9292\n",
      "Epoch 10/20\n",
      " - 9s - loss: 0.1707 - acc: 0.9308\n",
      "Epoch 11/20\n",
      " - 9s - loss: 0.1656 - acc: 0.9330\n",
      "Epoch 12/20\n",
      " - 9s - loss: 0.1589 - acc: 0.9356\n",
      "Epoch 13/20\n",
      " - 8s - loss: 0.1554 - acc: 0.9383\n",
      "Epoch 14/20\n",
      " - 9s - loss: 0.1516 - acc: 0.9409\n",
      "Epoch 15/20\n",
      " - 9s - loss: 0.1461 - acc: 0.9423\n",
      "Epoch 16/20\n",
      " - 9s - loss: 0.1432 - acc: 0.9446\n",
      "Epoch 17/20\n",
      " - 7s - loss: 0.1361 - acc: 0.9478\n",
      "Epoch 18/20\n",
      " - 7s - loss: 0.1348 - acc: 0.9473\n",
      "Epoch 19/20\n",
      " - 7s - loss: 0.1290 - acc: 0.9494\n",
      "Epoch 20/20\n",
      " - 7s - loss: 0.1296 - acc: 0.9490\n",
      "Standardized: 88.98% (0.66%)\n"
     ]
    }
   ],
   "source": [
    "# Evaluate baseline model with standardized dataset (This model takes a long time!!!) \n",
    "\n",
    "estimators = []\n",
    "estimators.append(('standardize', StandardScaler()))\n",
    "estimators.append(('mlp', KerasClassifier(build_fn=create_baseline, epochs = 20, batch_size = 5, verbose = 2)))\n",
    "pipeline = Pipeline(estimators)\n",
    "kfold = StratifiedKFold(n_splits = 10, shuffle = True, random_state = 42)\n",
    "results = cross_val_score(pipeline, X, y, cv = kfold)\n",
    "print(\"Standardized: %.2f%% (%.2f%%)\" % (results.mean()*100, results.std()*100))"
   ]
  },
  {
   "cell_type": "code",
   "execution_count": 36,
   "metadata": {},
   "outputs": [
    {
     "name": "stdout",
     "output_type": "stream",
     "text": [
      "On cross validation model gives accuracy of: 88.98% with a std of (0.66%)\n"
     ]
    }
   ],
   "source": [
    "print(\"On cross validation model gives accuracy of: %.2f%% with a std of (%.2f%%)\" % (results.mean()*100, results.std()*100))"
   ]
  },
  {
   "cell_type": "markdown",
   "metadata": {},
   "source": [
    "## Final NN Model and Results "
   ]
  },
  {
   "cell_type": "code",
   "execution_count": 39,
   "metadata": {},
   "outputs": [],
   "source": [
    "model = Sequential()\n",
    "model.add(Dense(60, input_dim = 415, kernel_initializer = 'normal', activation = 'relu'))\n",
    "model.add(Dense(1, kernel_initializer = 'normal', activation = 'sigmoid'))\n",
    "\n",
    "# Compiling Model \n",
    "\n",
    "earlystop = EarlyStopping(monitor = 'val_loss', min_delta = 0, patience = 2, verbose = 0, mode = 'auto')\n",
    "callbacks_list = [earlystop]\n",
    "model.compile(loss = 'binary_crossentropy', optimizer = 'adam', metrics = ['accuracy'])\n"
   ]
  },
  {
   "cell_type": "code",
   "execution_count": 40,
   "metadata": {},
   "outputs": [
    {
     "name": "stdout",
     "output_type": "stream",
     "text": [
      "Train on 22500 samples, validate on 2500 samples\n",
      "Epoch 1/20\n",
      " - 9s - loss: 0.3335 - acc: 0.8998 - val_loss: 0.2303 - val_acc: 0.9120\n",
      "Epoch 2/20\n",
      " - 8s - loss: 0.2381 - acc: 0.9174 - val_loss: 0.2353 - val_acc: 0.9128\n",
      "Epoch 3/20\n",
      " - 8s - loss: 0.2181 - acc: 0.9204 - val_loss: 0.2588 - val_acc: 0.9060\n"
     ]
    }
   ],
   "source": [
    "history = model.fit(X, y, validation_split = 0.1, epochs = 20, batch_size = 5, verbose = 2, callbacks = callbacks_list)"
   ]
  },
  {
   "cell_type": "code",
   "execution_count": 41,
   "metadata": {},
   "outputs": [
    {
     "name": "stdout",
     "output_type": "stream",
     "text": [
      "25000/25000 [==============================] - 1s 38us/step\n"
     ]
    }
   ],
   "source": [
    "loss, accuracy = model.evaluate(X, y)"
   ]
  },
  {
   "cell_type": "code",
   "execution_count": 42,
   "metadata": {},
   "outputs": [
    {
     "data": {
      "text/plain": [
       "0.91496"
      ]
     },
     "execution_count": 42,
     "metadata": {},
     "output_type": "execute_result"
    }
   ],
   "source": [
    "accuracy"
   ]
  },
  {
   "cell_type": "code",
   "execution_count": 43,
   "metadata": {},
   "outputs": [
    {
     "data": {
      "text/plain": [
       "0.22768271602392195"
      ]
     },
     "execution_count": 43,
     "metadata": {},
     "output_type": "execute_result"
    }
   ],
   "source": [
    "loss"
   ]
  },
  {
   "cell_type": "markdown",
   "metadata": {},
   "source": [
    "## Standardizing/Fitting Model"
   ]
  },
  {
   "cell_type": "code",
   "execution_count": 44,
   "metadata": {},
   "outputs": [],
   "source": [
    "min_max_scaler = preprocessing.MinMaxScaler()\n",
    "x_minmax = min_max_scaler.fit_transform(X)\n",
    "X_test_minmax = min_max_scaler.transform(X_test)\n",
    "\n",
    "scaler = StandardScaler()\n",
    "scaler.fit(X)\n",
    "X_scaled = scaler.transform(X)"
   ]
  },
  {
   "cell_type": "code",
   "execution_count": 45,
   "metadata": {},
   "outputs": [
    {
     "name": "stdout",
     "output_type": "stream",
     "text": [
      "Train on 18750 samples, validate on 6250 samples\n",
      "Epoch 1/20\n",
      " - 7s - loss: 0.3853 - acc: 0.8212 - val_loss: 0.3597 - val_acc: 0.8338\n",
      "Epoch 2/20\n",
      " - 7s - loss: 0.3075 - acc: 0.8622 - val_loss: 0.3337 - val_acc: 0.8595\n",
      "Epoch 3/20\n",
      " - 7s - loss: 0.2707 - acc: 0.8840 - val_loss: 0.3279 - val_acc: 0.8693\n",
      "Epoch 4/20\n",
      " - 7s - loss: 0.2461 - acc: 0.8966 - val_loss: 0.2988 - val_acc: 0.8830\n",
      "Epoch 5/20\n",
      " - 7s - loss: 0.2256 - acc: 0.9064 - val_loss: 0.3037 - val_acc: 0.8838\n",
      "Epoch 6/20\n",
      " - 7s - loss: 0.2107 - acc: 0.9137 - val_loss: 0.3105 - val_acc: 0.8872\n"
     ]
    }
   ],
   "source": [
    "history = model.fit(X_scaled, y, validation_split = 0.25, epochs = 20, batch_size = 5, verbose = 2, callbacks = callbacks_list)"
   ]
  },
  {
   "cell_type": "code",
   "execution_count": 46,
   "metadata": {},
   "outputs": [
    {
     "name": "stdout",
     "output_type": "stream",
     "text": [
      "25000/25000 [==============================] - 1s 38us/step\n"
     ]
    }
   ],
   "source": [
    "loss, accuracy = model.evaluate(X_scaled, y)"
   ]
  },
  {
   "cell_type": "code",
   "execution_count": 47,
   "metadata": {},
   "outputs": [
    {
     "data": {
      "text/plain": [
       "0.91716"
      ]
     },
     "execution_count": 47,
     "metadata": {},
     "output_type": "execute_result"
    }
   ],
   "source": [
    "accuracy"
   ]
  },
  {
   "cell_type": "code",
   "execution_count": 48,
   "metadata": {},
   "outputs": [
    {
     "data": {
      "text/plain": [
       "0.21478672669887544"
      ]
     },
     "execution_count": 48,
     "metadata": {},
     "output_type": "execute_result"
    }
   ],
   "source": [
    "loss"
   ]
  },
  {
   "cell_type": "code",
   "execution_count": 49,
   "metadata": {},
   "outputs": [
    {
     "name": "stdout",
     "output_type": "stream",
     "text": [
      "dict_keys(['val_loss', 'val_acc', 'loss', 'acc'])\n"
     ]
    },
    {
     "data": {
      "image/png": "[encoded data removed]",
      "text/plain": [
       "<matplotlib.figure.Figure at 0x1a403c4550>"
      ]
     },
     "metadata": {},
     "output_type": "display_data"
    },
    {
     "data": {
      "image/png": "[encoded data removed]",
      "text/plain": [
       "<matplotlib.figure.Figure at 0x1a403b2780>"
      ]
     },
     "metadata": {},
     "output_type": "display_data"
    }
   ],
   "source": [
    "# Thanks Abhijay Ghildyal for this plot, too \n",
    "print(history.history.keys())\n",
    "# summarize history for accuracy\n",
    "plt.plot(history.history['acc'])\n",
    "plt.plot(history.history['val_acc'])\n",
    "plt.title('model accuracy')\n",
    "plt.ylabel('accuracy')\n",
    "plt.xlabel('epoch')\n",
    "plt.ylim(0.7,1)\n",
    "plt.legend(['train', 'test'], loc='upper left')\n",
    "plt.show()\n",
    "# summarize history for loss\n",
    "plt.plot(history.history['loss'])\n",
    "plt.plot(history.history['val_loss'])\n",
    "plt.title('model loss')\n",
    "plt.ylabel('loss')\n",
    "plt.xlabel('epoch')\n",
    "plt.ylim(0,0.7)\n",
    "plt.legend(['train', 'test'], loc='upper left')\n",
    "plt.show()"
   ]
  },
  {
   "cell_type": "code",
   "execution_count": null,
   "metadata": {},
   "outputs": [],
   "source": []
  }
 ],
 "metadata": {
  "kernelspec": {
   "display_name": "Python 3",
   "language": "python",
   "name": "python3"
  },
  "language_info": {
   "codemirror_mode": {
    "name": "ipython",
    "version": 3
   },
   "file_extension": ".py",
   "mimetype": "text/x-python",
   "name": "python",
   "nbconvert_exporter": "python",
   "pygments_lexer": "ipython3",
   "version": "3.6.4"
  }
 },
 "nbformat": 4,
 "nbformat_minor": 2
}
